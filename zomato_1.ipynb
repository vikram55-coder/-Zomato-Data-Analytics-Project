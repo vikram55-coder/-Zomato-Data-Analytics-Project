{
 "cells": [
  {
   "cell_type": "code",
   "execution_count": 1,
   "id": "39c8c16a-0147-40d7-ba85-85b471617d98",
   "metadata": {},
   "outputs": [],
   "source": [
    "import os\n",
    "import numpy as np\n",
    "import pandas as pd\n",
    "import matplotlib.pyplot  as plt\n",
    "import seaborn as sns\n",
    "from sqlalchemy import create_engine\n"
   ]
  },
  {
   "cell_type": "code",
   "execution_count": 2,
   "id": "0b3b2bb5-ea4a-45ce-b145-f853350e6dd2",
   "metadata": {},
   "outputs": [],
   "source": [
    "import sqlite3\n",
    "conn = sqlite3.connect(\"zomato_project.db\")"
   ]
  },
  {
   "cell_type": "code",
   "execution_count": 3,
   "id": "486e8c28-8e40-4352-a912-55d02aee2fb9",
   "metadata": {},
   "outputs": [],
   "source": [
    "folder = r\"C:\\Users\\hp\\Desktop\\zomato_project_data\""
   ]
  },
  {
   "cell_type": "code",
   "execution_count": 4,
   "id": "b589248e-0ec9-4413-a9ac-93e93b300831",
   "metadata": {},
   "outputs": [
    {
     "name": "stdout",
     "output_type": "stream",
     "text": [
      "✅ Uploaded: customers → (20000, 5)\n",
      "✅ Uploaded: orders → (50000, 5)\n",
      "✅ Uploaded: order_items → (80000, 5)\n",
      "✅ Uploaded: payments → (50000, 5)\n",
      "✅ Uploaded: restaurants → (2000, 5)\n"
     ]
    }
   ],
   "source": [
    "for file in os.listdir(folder):\n",
    "    if file.endswith(\".csv\"):\n",
    "        path = os.path.join(folder, file)\n",
    "        df = pd.read_csv(path)\n",
    "        df.columns = [c.strip().replace(\" \", \"_\") if c.strip() else f\"col_{i}\" for i, c in enumerate(df.columns)]\n",
    "        table = file.replace(\".csv\", \"\")\n",
    "        df.to_sql(table, conn, index=False, if_exists='replace')\n",
    "        print(f\"✅ Uploaded: {table} → {df.shape}\")\n",
    "        \n",
    "conn.close()"
   ]
  },
  {
   "cell_type": "code",
   "execution_count": 5,
   "id": "6ce68789-80fa-4cfb-8c66-27201fd43fda",
   "metadata": {},
   "outputs": [
    {
     "name": "stdout",
     "output_type": "stream",
     "text": [
      "Index(['order_id', 'customer_id', 'restaurant_id', 'order_date',\n",
      "       'delivery_time_min'],\n",
      "      dtype='object')\n",
      "   order_id customer_id restaurant_id        order_date  delivery_time_min\n",
      "0  ORD10000    CUST1126       REST773  2024-07-13 01:04                 77\n",
      "1  ORD10001   CUST17765       REST448  2025-03-11 04:35                 71\n",
      "2  ORD10002   CUST10235      REST1914  2024-10-25 10:28                 65\n",
      "3  ORD10003   CUST14581       REST363  2025-02-14 01:23                 53\n",
      "4  ORD10004    CUST1349      REST1327  2025-06-17 06:38                 59\n"
     ]
    }
   ],
   "source": [
    "conn = sqlite3.connect(\"zomato_project.db\")\n",
    "\n",
    "df_sample = pd.read_sql(\"SELECT * FROM orders LIMIT 5;\", conn)\n",
    "print(df_sample.columns)\n",
    "print(df_sample.head())\n",
    "\n"
   ]
  },
  {
   "cell_type": "code",
   "execution_count": 6,
   "id": "f478504f-4c7f-4a02-911b-bb18af0aa1f3",
   "metadata": {},
   "outputs": [
    {
     "name": "stdout",
     "output_type": "stream",
     "text": [
      "          name\n",
      "0    customers\n",
      "1       orders\n",
      "2  order_items\n",
      "3     payments\n",
      "4  restaurants\n"
     ]
    },
    {
     "data": {
      "text/html": [
       "<div>\n",
       "<style scoped>\n",
       "    .dataframe tbody tr th:only-of-type {\n",
       "        vertical-align: middle;\n",
       "    }\n",
       "\n",
       "    .dataframe tbody tr th {\n",
       "        vertical-align: top;\n",
       "    }\n",
       "\n",
       "    .dataframe thead th {\n",
       "        text-align: right;\n",
       "    }\n",
       "</style>\n",
       "<table border=\"1\" class=\"dataframe\">\n",
       "  <thead>\n",
       "    <tr style=\"text-align: right;\">\n",
       "      <th></th>\n",
       "      <th>cid</th>\n",
       "      <th>name</th>\n",
       "      <th>type</th>\n",
       "      <th>notnull</th>\n",
       "      <th>dflt_value</th>\n",
       "      <th>pk</th>\n",
       "    </tr>\n",
       "  </thead>\n",
       "  <tbody>\n",
       "    <tr>\n",
       "      <th>0</th>\n",
       "      <td>0</td>\n",
       "      <td>restaurant_id</td>\n",
       "      <td>TEXT</td>\n",
       "      <td>0</td>\n",
       "      <td>None</td>\n",
       "      <td>0</td>\n",
       "    </tr>\n",
       "    <tr>\n",
       "      <th>1</th>\n",
       "      <td>1</td>\n",
       "      <td>name</td>\n",
       "      <td>TEXT</td>\n",
       "      <td>0</td>\n",
       "      <td>None</td>\n",
       "      <td>0</td>\n",
       "    </tr>\n",
       "    <tr>\n",
       "      <th>2</th>\n",
       "      <td>2</td>\n",
       "      <td>city</td>\n",
       "      <td>TEXT</td>\n",
       "      <td>0</td>\n",
       "      <td>None</td>\n",
       "      <td>0</td>\n",
       "    </tr>\n",
       "    <tr>\n",
       "      <th>3</th>\n",
       "      <td>3</td>\n",
       "      <td>cuisine</td>\n",
       "      <td>TEXT</td>\n",
       "      <td>0</td>\n",
       "      <td>None</td>\n",
       "      <td>0</td>\n",
       "    </tr>\n",
       "    <tr>\n",
       "      <th>4</th>\n",
       "      <td>4</td>\n",
       "      <td>rating</td>\n",
       "      <td>REAL</td>\n",
       "      <td>0</td>\n",
       "      <td>None</td>\n",
       "      <td>0</td>\n",
       "    </tr>\n",
       "  </tbody>\n",
       "</table>\n",
       "</div>"
      ],
      "text/plain": [
       "   cid           name  type  notnull dflt_value  pk\n",
       "0    0  restaurant_id  TEXT        0       None   0\n",
       "1    1           name  TEXT        0       None   0\n",
       "2    2           city  TEXT        0       None   0\n",
       "3    3        cuisine  TEXT        0       None   0\n",
       "4    4         rating  REAL        0       None   0"
      ]
     },
     "execution_count": 6,
     "metadata": {},
     "output_type": "execute_result"
    }
   ],
   "source": [
    "df_tables = pd.read_sql(\"SELECT name FROM sqlite_master WHERE type='table';\", conn)\n",
    "print(df_tables)\n",
    "pd.read_sql(\"PRAGMA table_info(restaurants);\", conn)"
   ]
  },
  {
   "cell_type": "markdown",
   "id": "c9a47241-e8ee-4af9-9317-32bfb6b5137e",
   "metadata": {},
   "source": [
    "# Which are the Top 5 Restaurants with the Most Orders"
   ]
  },
  {
   "cell_type": "code",
   "execution_count": 7,
   "id": "984731a4-9134-4294-a36c-091c6ddc4caf",
   "metadata": {
    "scrolled": true
   },
   "outputs": [
    {
     "name": "stdout",
     "output_type": "stream",
     "text": [
      "  restaurant_name  total_orders\n",
      "0     Johnson Ltd           118\n",
      "1      Miller PLC           107\n",
      "2       Cross PLC            88\n",
      "3       Smith LLC            85\n",
      "4     Brown Group            84\n"
     ]
    }
   ],
   "source": [
    "query = \"\"\"\n",
    "SELECT \n",
    "    r.name AS restaurant_name,\n",
    "    COUNT(o.customer_id) AS total_orders\n",
    "FROM orders o\n",
    "JOIN restaurants r\n",
    "    ON o.restaurant_id = r.restaurant_id\n",
    "GROUP BY r.name\n",
    "ORDER BY total_orders DESC\n",
    "LIMIT 5;\n",
    "\"\"\"\n",
    "\n",
    "df_top_restaurants = pd.read_sql(query, conn)\n",
    "print(df_top_restaurants)\n"
   ]
  },
  {
   "attachments": {},
   "cell_type": "markdown",
   "id": "058a82ed-42c2-42be-8550-0022131d0572",
   "metadata": {},
   "source": [
    "# Which city has the worst average delivery time\n",
    "\n"
   ]
  },
  {
   "cell_type": "code",
   "execution_count": 8,
   "id": "3cde1223-b746-4057-b7cb-fb5758cb64ee",
   "metadata": {},
   "outputs": [
    {
     "name": "stdout",
     "output_type": "stream",
     "text": [
      "                   city  average_delivery_time\n",
      "0            Holmesfurt              67.538462\n",
      "1             Lake Lisa              66.869565\n",
      "2            Leslieport              66.615385\n",
      "3       South Elizabeth              66.611111\n",
      "4           Michaelbury              66.416667\n",
      "...                 ...                    ...\n",
      "1856         East Bruce              42.666667\n",
      "1857        Stewartview              42.650000\n",
      "1858       Gilbertville              41.740741\n",
      "1859  South Briannaberg              39.315789\n",
      "1860        New Rebecca              37.062500\n",
      "\n",
      "[1861 rows x 2 columns]\n"
     ]
    }
   ],
   "source": [
    "query = \"\"\"\n",
    "SELECT r.city, AVG(o.delivery_time_min) AS average_delivery_time\n",
    "FROM orders o\n",
    "JOIN restaurants r ON o.restaurant_id = r.restaurant_id\n",
    "GROUP BY r.city\n",
    "ORDER BY average_delivery_time DESC\n",
    "\"\"\"\n",
    "\n",
    "df_top_orders = pd.read_sql(query, conn)\n",
    "print(df_top_orders)"
   ]
  },
  {
   "cell_type": "markdown",
   "id": "28adb361-a315-43b2-b166-3a23992cb9bb",
   "metadata": {},
   "source": [
    "# Which customers are spending the most money"
   ]
  },
  {
   "cell_type": "code",
   "execution_count": 9,
   "id": "933d07b7-dab7-4fe4-a417-a145709e3472",
   "metadata": {},
   "outputs": [
    {
     "name": "stdout",
     "output_type": "stream",
     "text": [
      "      customer_id                 name  total_spent\n",
      "0       CUST19660           Todd Sharp       538.90\n",
      "1        CUST3704           Barry Peck       505.86\n",
      "2       CUST10511         Scott Garcia       448.20\n",
      "3       CUST12682          Julia Perry       432.84\n",
      "4        CUST1066     Jennifer Sanchez       420.94\n",
      "...           ...                  ...          ...\n",
      "15843    CUST9522         Kyle Mendoza         5.07\n",
      "15844    CUST4526       Sabrina Fields         5.06\n",
      "15845   CUST19113          James Smith         5.05\n",
      "15846   CUST17069  Elizabeth Hernandez         5.04\n",
      "15847   CUST11821       Matthew Wilson         5.02\n",
      "\n",
      "[15848 rows x 3 columns]\n"
     ]
    }
   ],
   "source": [
    "query = \"\"\"\n",
    "SELECT \n",
    "    c.customer_id,\n",
    "    c.name,\n",
    "    SUM(p.amount) AS total_spent\n",
    "FROM payments p\n",
    "JOIN orders o ON p.order_id = o.order_id\n",
    "JOIN customers c ON o.customer_id = c.customer_id\n",
    "GROUP BY c.customer_id, c.name\n",
    "ORDER BY total_spent DESC\n",
    "\"\"\"\n",
    "\n",
    "df_top_customers = pd.read_sql(query, conn)\n",
    "print(df_top_customers)"
   ]
  },
  {
   "cell_type": "markdown",
   "id": "04c5f645-45af-478a-9aba-e6719218b5ec",
   "metadata": {},
   "source": [
    "# Which cuisines are the most popular"
   ]
  },
  {
   "cell_type": "code",
   "execution_count": 12,
   "id": "b39ea078-4381-48a0-84b1-e9f943f78bee",
   "metadata": {},
   "outputs": [
    {
     "name": "stdout",
     "output_type": "stream",
     "text": [
      "    cuisine  total_orders\n",
      "0   Italian          8909\n",
      "1   Mexican          8817\n",
      "2      Thai          8615\n",
      "3   Chinese          8340\n",
      "4    Indian          8088\n",
      "5  American          7231\n"
     ]
    }
   ],
   "source": [
    "query = \"\"\"\n",
    "SELECT \n",
    "    r.cuisine, \n",
    "    COUNT(*) AS total_orders\n",
    "FROM orders o\n",
    "JOIN restaurants r \n",
    "    ON o.restaurant_id = r.restaurant_id\n",
    "GROUP BY r.cuisine\n",
    "ORDER BY total_orders DESC\n",
    "\"\"\"\n",
    "\n",
    "df_top_cuisines = pd.read_sql(query, conn)\n",
    "print(df_top_cuisines)"
   ]
  },
  {
   "cell_type": "code",
   "execution_count": 16,
   "id": "e135d04e-ead2-42fd-9cb3-1c4e53e26fe7",
   "metadata": {},
   "outputs": [
    {
     "name": "stdout",
     "output_type": "stream",
     "text": [
      "     restaurant_id  restaurant_name  avg_rating  total_orders\n",
      "0         REST1785     Boyd-Johnson         2.5            38\n",
      "1         REST1818     Wilkins-Sims         2.5            36\n",
      "2         REST1402       Garcia Inc         2.5            33\n",
      "3         REST1903      Mack-Garner         2.5            33\n",
      "4          REST155     Thompson PLC         2.5            32\n",
      "...            ...              ...         ...           ...\n",
      "1995       REST152       Steele Inc         5.0            19\n",
      "1996      REST1918   Ramirez-Howard         5.0            18\n",
      "1997       REST261         Soto LLC         5.0            18\n",
      "1998       REST640  Osborne-Manning         5.0            17\n",
      "1999      REST1013        Reyes LLC         5.0            15\n",
      "\n",
      "[2000 rows x 4 columns]\n"
     ]
    }
   ],
   "source": [
    "query = \"\"\"\n",
    "SELECT \n",
    "    r.restaurant_id,\n",
    "    r.name AS restaurant_name,\n",
    "    ROUND(r.rating, 2) AS avg_rating,\n",
    "    COUNT(o.order_id) AS total_orders\n",
    "FROM restaurants r\n",
    "LEFT JOIN orders o \n",
    "    ON r.restaurant_id = o.restaurant_id\n",
    "GROUP BY r.restaurant_id, r.name, r.rating\n",
    "ORDER BY avg_rating ASC, total_orders DESC\n",
    "\"\"\"\n",
    "\n",
    "df_low_rated = pd.read_sql(query, conn)\n",
    "print(df_low_rated)"
   ]
  },
  {
   "cell_type": "code",
   "execution_count": 38,
   "id": "9804a8e5-4815-4f48-9294-187b9b44b54f",
   "metadata": {},
   "outputs": [
    {
     "data": {
      "image/png": "[encoded data removed]",
      "text/plain": [
       "<Figure size 1400x500 with 1 Axes>"
      ]
     },
     "metadata": {},
     "output_type": "display_data"
    }
   ],
   "source": [
    "df = df_low_rated[df_low_rated['avg_rating'].isin([3, 4, 5])]\n",
    "\n",
    "rating_counts = df['avg_rating'].value_counts().sort_index()\n",
    "\n",
    "plt.figure(figsize=(14,5))\n",
    "plt.pie(rating_counts, labels=rating_counts.index,\n",
    "        autopct='%1.1f%%', startangle=90, colors=['r','b','g'])\n",
    "plt.title('Distribution of Restaurants with Ratings 3, 4, 5')\n",
    "plt.axis('equal')  \n",
    "\n",
    "plt.show()"
   ]
  },
  {
   "cell_type": "code",
   "execution_count": null,
   "id": "5f7e14b9-fe26-434e-a580-50da249dbe2f",
   "metadata": {},
   "outputs": [],
   "source": []
  },
  {
   "cell_type": "code",
   "execution_count": null,
   "id": "d9057b8e-9b29-46d8-abdc-fa5143c33ebe",
   "metadata": {},
   "outputs": [],
   "source": []
  }
 ],
 "metadata": {
  "kernelspec": {
   "display_name": "Python 3 (ipykernel)",
   "language": "python",
   "name": "python3"
  },
  "language_info": {
   "codemirror_mode": {
    "name": "ipython",
    "version": 3
   },
   "file_extension": ".py",
   "mimetype": "text/x-python",
   "name": "python",
   "nbconvert_exporter": "python",
   "pygments_lexer": "ipython3",
   "version": "3.12.7"
  }
 },
 "nbformat": 4,
 "nbformat_minor": 5
}
